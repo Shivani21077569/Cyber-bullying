{
 "cells": [
  {
   "cell_type": "code",
   "execution_count": 15,
   "id": "d31a8169",
   "metadata": {},
   "outputs": [],
   "source": [
    "#importing the needed libraries and packages \n",
    "import pandas as pd   #for data loading , manipulation and cleaning\n",
    "import matplotlib.pyplot as plt #for plotting the data "
   ]
  },
  {
   "cell_type": "code",
   "execution_count": 29,
   "id": "0b12390a",
   "metadata": {},
   "outputs": [
    {
     "data": {
      "text/html": [
       "<div>\n",
       "<style scoped>\n",
       "    .dataframe tbody tr th:only-of-type {\n",
       "        vertical-align: middle;\n",
       "    }\n",
       "\n",
       "    .dataframe tbody tr th {\n",
       "        vertical-align: top;\n",
       "    }\n",
       "\n",
       "    .dataframe thead th {\n",
       "        text-align: right;\n",
       "    }\n",
       "</style>\n",
       "<table border=\"1\" class=\"dataframe\">\n",
       "  <thead>\n",
       "    <tr style=\"text-align: right;\">\n",
       "      <th></th>\n",
       "      <th>index</th>\n",
       "      <th>Text</th>\n",
       "      <th>ed_label_0</th>\n",
       "      <th>ed_label_1</th>\n",
       "      <th>oh_label</th>\n",
       "    </tr>\n",
       "  </thead>\n",
       "  <tbody>\n",
       "    <tr>\n",
       "      <th>0</th>\n",
       "      <td>0</td>\n",
       "      <td>`- This is not ``creative``.  Those are the di...</td>\n",
       "      <td>0.900000</td>\n",
       "      <td>0.100000</td>\n",
       "      <td>0</td>\n",
       "    </tr>\n",
       "    <tr>\n",
       "      <th>1</th>\n",
       "      <td>1</td>\n",
       "      <td>`  :: the term ``standard model`` is itself le...</td>\n",
       "      <td>1.000000</td>\n",
       "      <td>0.000000</td>\n",
       "      <td>0</td>\n",
       "    </tr>\n",
       "    <tr>\n",
       "      <th>2</th>\n",
       "      <td>2</td>\n",
       "      <td>True or false, the situation as of March 200...</td>\n",
       "      <td>1.000000</td>\n",
       "      <td>0.000000</td>\n",
       "      <td>0</td>\n",
       "    </tr>\n",
       "    <tr>\n",
       "      <th>3</th>\n",
       "      <td>3</td>\n",
       "      <td>Next, maybe you could work on being less cond...</td>\n",
       "      <td>0.555556</td>\n",
       "      <td>0.444444</td>\n",
       "      <td>0</td>\n",
       "    </tr>\n",
       "    <tr>\n",
       "      <th>4</th>\n",
       "      <td>4</td>\n",
       "      <td>This page will need disambiguation.</td>\n",
       "      <td>1.000000</td>\n",
       "      <td>0.000000</td>\n",
       "      <td>0</td>\n",
       "    </tr>\n",
       "    <tr>\n",
       "      <th>...</th>\n",
       "      <td>...</td>\n",
       "      <td>...</td>\n",
       "      <td>...</td>\n",
       "      <td>...</td>\n",
       "      <td>...</td>\n",
       "    </tr>\n",
       "    <tr>\n",
       "      <th>115859</th>\n",
       "      <td>115859</td>\n",
       "      <td>`   These sources don't exactly exude a sense ...</td>\n",
       "      <td>0.777778</td>\n",
       "      <td>0.222222</td>\n",
       "      <td>0</td>\n",
       "    </tr>\n",
       "    <tr>\n",
       "      <th>115860</th>\n",
       "      <td>115860</td>\n",
       "      <td>The Institute for Historical Review is a pee...</td>\n",
       "      <td>1.000000</td>\n",
       "      <td>0.000000</td>\n",
       "      <td>0</td>\n",
       "    </tr>\n",
       "    <tr>\n",
       "      <th>115861</th>\n",
       "      <td>115861</td>\n",
       "      <td>:The way you're trying to describe it in this...</td>\n",
       "      <td>1.000000</td>\n",
       "      <td>0.000000</td>\n",
       "      <td>0</td>\n",
       "    </tr>\n",
       "    <tr>\n",
       "      <th>115862</th>\n",
       "      <td>115862</td>\n",
       "      <td>== Warning ==  There is clearly a protection...</td>\n",
       "      <td>0.500000</td>\n",
       "      <td>0.500000</td>\n",
       "      <td>0</td>\n",
       "    </tr>\n",
       "    <tr>\n",
       "      <th>115863</th>\n",
       "      <td>115863</td>\n",
       "      <td>Alternate option=== Is there perhaps enough ne...</td>\n",
       "      <td>1.000000</td>\n",
       "      <td>0.000000</td>\n",
       "      <td>0</td>\n",
       "    </tr>\n",
       "  </tbody>\n",
       "</table>\n",
       "<p>115864 rows × 5 columns</p>\n",
       "</div>"
      ],
      "text/plain": [
       "         index                                               Text  ed_label_0  \\\n",
       "0            0  `- This is not ``creative``.  Those are the di...    0.900000   \n",
       "1            1  `  :: the term ``standard model`` is itself le...    1.000000   \n",
       "2            2    True or false, the situation as of March 200...    1.000000   \n",
       "3            3   Next, maybe you could work on being less cond...    0.555556   \n",
       "4            4               This page will need disambiguation.     1.000000   \n",
       "...        ...                                                ...         ...   \n",
       "115859  115859  `   These sources don't exactly exude a sense ...    0.777778   \n",
       "115860  115860    The Institute for Historical Review is a pee...    1.000000   \n",
       "115861  115861   :The way you're trying to describe it in this...    1.000000   \n",
       "115862  115862    == Warning ==  There is clearly a protection...    0.500000   \n",
       "115863  115863  Alternate option=== Is there perhaps enough ne...    1.000000   \n",
       "\n",
       "        ed_label_1  oh_label  \n",
       "0         0.100000         0  \n",
       "1         0.000000         0  \n",
       "2         0.000000         0  \n",
       "3         0.444444         0  \n",
       "4         0.000000         0  \n",
       "...            ...       ...  \n",
       "115859    0.222222         0  \n",
       "115860    0.000000         0  \n",
       "115861    0.000000         0  \n",
       "115862    0.500000         0  \n",
       "115863    0.000000         0  \n",
       "\n",
       "[115864 rows x 5 columns]"
      ]
     },
     "execution_count": 29,
     "metadata": {},
     "output_type": "execute_result"
    }
   ],
   "source": [
    "#for reading the data from csv files we have \n",
    "df = pd.read_csv(\"./dataset/aggression_parsed_dataset.csv\") \n",
    "df"
   ]
  },
  {
   "cell_type": "code",
   "execution_count": 4,
   "id": "270bc1cb",
   "metadata": {},
   "outputs": [
    {
     "data": {
      "text/plain": [
       "False"
      ]
     },
     "execution_count": 4,
     "metadata": {},
     "output_type": "execute_result"
    }
   ],
   "source": [
    " #checking if the dataset has any null values if yes then we remove it but here no null value findings \n",
    "df.isnull().values.any()"
   ]
  },
  {
   "cell_type": "code",
   "execution_count": 11,
   "id": "67d5033a",
   "metadata": {},
   "outputs": [
    {
     "data": {
      "text/plain": [
       "[0, 1]"
      ]
     },
     "execution_count": 11,
     "metadata": {},
     "output_type": "execute_result"
    }
   ],
   "source": [
    "#counting the unique values in the column oh_label which tells us if the aggresion in the content is true or false and storing it into list using list function \n",
    "values = list(df[\"oh_label\"].unique())\n",
    "values"
   ]
  },
  {
   "cell_type": "code",
   "execution_count": 13,
   "id": "9417b7f2",
   "metadata": {},
   "outputs": [
    {
     "data": {
      "text/plain": [
       "[101082, 14782]"
      ]
     },
     "execution_count": 13,
     "metadata": {},
     "output_type": "execute_result"
    }
   ],
   "source": [
    "value_counts = []  #defined an empty list\n",
    "\n",
    "#now will run a loop through unique value list to check the number of occurrence of the unique values in the column oh_label\n",
    "for i in values:\n",
    "    value_counts.append(df[\"oh_label\"].value_counts()[i])\n",
    "    \n",
    "value_counts"
   ]
  },
  {
   "cell_type": "code",
   "execution_count": 19,
   "id": "8a1656cd",
   "metadata": {},
   "outputs": [],
   "source": [
    "labels = [\"No aggression\", \"yes aggression\"]  #defining the labels to label on pie chart "
   ]
  },
  {
   "cell_type": "code",
   "execution_count": 30,
   "id": "dcb1b6cd",
   "metadata": {},
   "outputs": [
    {
     "data": {
      "image/png": "[encoded data removed]",
      "text/plain": [
       "<Figure size 576x432 with 1 Axes>"
      ]
     },
     "metadata": {},
     "output_type": "display_data"
    }
   ],
   "source": [
    "#plotting a pie chart with the count of unique values and labels we defined above \n",
    "plt.figure(figsize=(8, 6))\n",
    "plt.pie(value_counts, labels=labels, autopct='%1.1f%%', startangle=140)\n",
    "plt.axis('equal') \n",
    "plt.title('Pie Chart of Categories')\n",
    "plt.show()"
   ]
  },
  {
   "cell_type": "code",
   "execution_count": null,
   "id": "020a2230",
   "metadata": {},
   "outputs": [],
   "source": [
    "#============================================ Attack parsed Dataset ============================================================"
   ]
  },
  {
   "cell_type": "code",
   "execution_count": 21,
   "id": "25f2447b",
   "metadata": {},
   "outputs": [
    {
     "data": {
      "text/html": [
       "<div>\n",
       "<style scoped>\n",
       "    .dataframe tbody tr th:only-of-type {\n",
       "        vertical-align: middle;\n",
       "    }\n",
       "\n",
       "    .dataframe tbody tr th {\n",
       "        vertical-align: top;\n",
       "    }\n",
       "\n",
       "    .dataframe thead th {\n",
       "        text-align: right;\n",
       "    }\n",
       "</style>\n",
       "<table border=\"1\" class=\"dataframe\">\n",
       "  <thead>\n",
       "    <tr style=\"text-align: right;\">\n",
       "      <th></th>\n",
       "      <th>index</th>\n",
       "      <th>Text</th>\n",
       "      <th>ed_label_0</th>\n",
       "      <th>ed_label_1</th>\n",
       "      <th>oh_label</th>\n",
       "    </tr>\n",
       "  </thead>\n",
       "  <tbody>\n",
       "    <tr>\n",
       "      <th>0</th>\n",
       "      <td>0</td>\n",
       "      <td>`- This is not ``creative``.  Those are the di...</td>\n",
       "      <td>1.000000</td>\n",
       "      <td>0.000000</td>\n",
       "      <td>0</td>\n",
       "    </tr>\n",
       "    <tr>\n",
       "      <th>1</th>\n",
       "      <td>1</td>\n",
       "      <td>`  :: the term ``standard model`` is itself le...</td>\n",
       "      <td>1.000000</td>\n",
       "      <td>0.000000</td>\n",
       "      <td>0</td>\n",
       "    </tr>\n",
       "    <tr>\n",
       "      <th>2</th>\n",
       "      <td>2</td>\n",
       "      <td>True or false, the situation as of March 200...</td>\n",
       "      <td>1.000000</td>\n",
       "      <td>0.000000</td>\n",
       "      <td>0</td>\n",
       "    </tr>\n",
       "    <tr>\n",
       "      <th>3</th>\n",
       "      <td>3</td>\n",
       "      <td>Next, maybe you could work on being less cond...</td>\n",
       "      <td>0.555556</td>\n",
       "      <td>0.444444</td>\n",
       "      <td>0</td>\n",
       "    </tr>\n",
       "    <tr>\n",
       "      <th>4</th>\n",
       "      <td>4</td>\n",
       "      <td>This page will need disambiguation.</td>\n",
       "      <td>1.000000</td>\n",
       "      <td>0.000000</td>\n",
       "      <td>0</td>\n",
       "    </tr>\n",
       "    <tr>\n",
       "      <th>...</th>\n",
       "      <td>...</td>\n",
       "      <td>...</td>\n",
       "      <td>...</td>\n",
       "      <td>...</td>\n",
       "      <td>...</td>\n",
       "    </tr>\n",
       "    <tr>\n",
       "      <th>115859</th>\n",
       "      <td>115859</td>\n",
       "      <td>`   These sources don't exactly exude a sense ...</td>\n",
       "      <td>0.888889</td>\n",
       "      <td>0.111111</td>\n",
       "      <td>0</td>\n",
       "    </tr>\n",
       "    <tr>\n",
       "      <th>115860</th>\n",
       "      <td>115860</td>\n",
       "      <td>The Institute for Historical Review is a pee...</td>\n",
       "      <td>0.900000</td>\n",
       "      <td>0.100000</td>\n",
       "      <td>0</td>\n",
       "    </tr>\n",
       "    <tr>\n",
       "      <th>115861</th>\n",
       "      <td>115861</td>\n",
       "      <td>:The way you're trying to describe it in this...</td>\n",
       "      <td>1.000000</td>\n",
       "      <td>0.000000</td>\n",
       "      <td>0</td>\n",
       "    </tr>\n",
       "    <tr>\n",
       "      <th>115862</th>\n",
       "      <td>115862</td>\n",
       "      <td>== Warning ==  There is clearly a protection...</td>\n",
       "      <td>0.800000</td>\n",
       "      <td>0.200000</td>\n",
       "      <td>0</td>\n",
       "    </tr>\n",
       "    <tr>\n",
       "      <th>115863</th>\n",
       "      <td>115863</td>\n",
       "      <td>Alternate option=== Is there perhaps enough ne...</td>\n",
       "      <td>1.000000</td>\n",
       "      <td>0.000000</td>\n",
       "      <td>0</td>\n",
       "    </tr>\n",
       "  </tbody>\n",
       "</table>\n",
       "<p>115864 rows × 5 columns</p>\n",
       "</div>"
      ],
      "text/plain": [
       "         index                                               Text  ed_label_0  \\\n",
       "0            0  `- This is not ``creative``.  Those are the di...    1.000000   \n",
       "1            1  `  :: the term ``standard model`` is itself le...    1.000000   \n",
       "2            2    True or false, the situation as of March 200...    1.000000   \n",
       "3            3   Next, maybe you could work on being less cond...    0.555556   \n",
       "4            4               This page will need disambiguation.     1.000000   \n",
       "...        ...                                                ...         ...   \n",
       "115859  115859  `   These sources don't exactly exude a sense ...    0.888889   \n",
       "115860  115860    The Institute for Historical Review is a pee...    0.900000   \n",
       "115861  115861   :The way you're trying to describe it in this...    1.000000   \n",
       "115862  115862    == Warning ==  There is clearly a protection...    0.800000   \n",
       "115863  115863  Alternate option=== Is there perhaps enough ne...    1.000000   \n",
       "\n",
       "        ed_label_1  oh_label  \n",
       "0         0.000000         0  \n",
       "1         0.000000         0  \n",
       "2         0.000000         0  \n",
       "3         0.444444         0  \n",
       "4         0.000000         0  \n",
       "...            ...       ...  \n",
       "115859    0.111111         0  \n",
       "115860    0.100000         0  \n",
       "115861    0.000000         0  \n",
       "115862    0.200000         0  \n",
       "115863    0.000000         0  \n",
       "\n",
       "[115864 rows x 5 columns]"
      ]
     },
     "execution_count": 21,
     "metadata": {},
     "output_type": "execute_result"
    }
   ],
   "source": [
    "attacked_parsed_dataset = pd.read_csv(\"./dataset/attack_parsed_dataset.csv\")\n",
    "attacked_parsed_dataset"
   ]
  },
  {
   "cell_type": "code",
   "execution_count": 22,
   "id": "5009fbc1",
   "metadata": {},
   "outputs": [
    {
     "data": {
      "text/plain": [
       "False"
      ]
     },
     "execution_count": 22,
     "metadata": {},
     "output_type": "execute_result"
    }
   ],
   "source": [
    "attacked_parsed_dataset.isnull().values.any()"
   ]
  },
  {
   "cell_type": "code",
   "execution_count": 26,
   "id": "dc04aa58",
   "metadata": {},
   "outputs": [
    {
     "data": {
      "text/plain": [
       "[0, 1]"
      ]
     },
     "execution_count": 26,
     "metadata": {},
     "output_type": "execute_result"
    }
   ],
   "source": [
    "unique_values = list(attacked_parsed_dataset[\"oh_label\"].unique())\n",
    "unique_values"
   ]
  },
  {
   "cell_type": "code",
   "execution_count": 27,
   "id": "ab67088d",
   "metadata": {},
   "outputs": [
    {
     "data": {
      "text/plain": [
       "[102274, 13590]"
      ]
     },
     "execution_count": 27,
     "metadata": {},
     "output_type": "execute_result"
    }
   ],
   "source": [
    "unique_value_counts = []\n",
    "for i in values:\n",
    "    unique_value_counts.append(attacked_parsed_dataset[\"oh_label\"].value_counts()[i])\n",
    "    \n",
    "unique_value_counts"
   ]
  },
  {
   "cell_type": "code",
   "execution_count": 28,
   "id": "0897178d",
   "metadata": {},
   "outputs": [],
   "source": [
    "attack_labels = [\"No attack\", \"yes attack\"]"
   ]
  },
  {
   "cell_type": "code",
   "execution_count": 31,
   "id": "7d290331",
   "metadata": {},
   "outputs": [
    {
     "data": {
      "image/png": "[encoded data removed]",
      "text/plain": [
       "<Figure size 576x432 with 1 Axes>"
      ]
     },
     "metadata": {},
     "output_type": "display_data"
    }
   ],
   "source": [
    "#plotting a pie chart with the count of unique values and labels we defined above \n",
    "plt.figure(figsize=(8, 6))\n",
    "plt.pie(unique_value_counts, labels=attack_labels, autopct='%1.1f%%', startangle=140)\n",
    "plt.axis('equal') \n",
    "plt.title('Pie Chart of Categories')\n",
    "plt.show()"
   ]
  },
  {
   "cell_type": "code",
   "execution_count": null,
   "id": "0a211915",
   "metadata": {},
   "outputs": [],
   "source": []
  }
 ],
 "metadata": {
  "kernelspec": {
   "display_name": "Python 3 (ipykernel)",
   "language": "python",
   "name": "python3"
  },
  "language_info": {
   "codemirror_mode": {
    "name": "ipython",
    "version": 3
   },
   "file_extension": ".py",
   "mimetype": "text/x-python",
   "name": "python",
   "nbconvert_exporter": "python",
   "pygments_lexer": "ipython3",
   "version": "3.9.7"
  }
 },
 "nbformat": 4,
 "nbformat_minor": 5
}
